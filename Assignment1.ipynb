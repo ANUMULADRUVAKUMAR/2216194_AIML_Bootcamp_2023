{
  "nbformat": 4,
  "nbformat_minor": 0,
  "metadata": {
    "colab": {
      "provenance": [],
      "authorship_tag": "ABX9TyOuonAv/lfQGuji0eVFYgjB",
      "include_colab_link": true
    },
    "kernelspec": {
      "name": "python3",
      "display_name": "Python 3"
    },
    "language_info": {
      "name": "python"
    }
  },
  "cells": [
    {
      "cell_type": "markdown",
      "metadata": {
        "id": "view-in-github",
        "colab_type": "text"
      },
      "source": [
        "<a href=\"https://colab.research.google.com/github/ANUMULADRUVAKUMAR/2216194_AIML_Bootcamp_2023/blob/main/Assignment1.ipynb\" target=\"_parent\"><img src=\"https://colab.research.google.com/assets/colab-badge.svg\" alt=\"Open In Colab\"/></a>"
      ]
    },
    {
      "cell_type": "code",
      "execution_count": 69,
      "metadata": {
        "colab": {
          "base_uri": "https://localhost:8080/"
        },
        "id": "Lewy3jVINjVR",
        "outputId": "ce4a5f26-b968-44ff-fb4a-9a551588e316"
      },
      "outputs": [
        {
          "output_type": "stream",
          "name": "stdout",
          "text": [
            "captalize= Hello i'm  from sr university\n",
            "casefold= hello i'm  from sr university\n",
            "center= *****hello I'm  from SR university******\n",
            "count= 2\n",
            "endswith= True\n",
            "expandtabs= hello     I'm from SR university and im 19 yrs old\n",
            "find= 16\n",
            "fomat= hello \tI'm from SR university and im 19 yrs old\n",
            "isupper= False\n",
            "istitle= False\n",
            "isspace= False\n",
            "isprintable= True\n",
            "isnumeric= False\n",
            "islower= False\n",
            "isdigit= False\n",
            "index= 16\n",
            "join= sr university\n",
            "ljust= hello I'm  from SR university******\n",
            "lower= hello i'm  from sr university\n",
            "lstrip= druva        \n",
            "maketrans  translate= hello I'm  from DN university\n",
            "partition= (\"hello I'm  from \", 'SR', ' university')\n",
            "replace= hello I'm  from DN university\n",
            "rfind= 16\n",
            "rindex= 16\n",
            "rjust= hello I'm  from SR university\n",
            "split= ['hello', \"I'm\", 'from', 'SR', 'university']\n",
            "splitlines= [\"hello I'm  from SR university\"]\n",
            "startswith= False\n",
            "strip= druva\n",
            "swapcase HELLO i'M  FROM sr UNIVERSITY\n",
            "title= Hello I'M  From Sr University\n",
            "upper= HELLO I'M  FROM SR UNIVERSITY\n"
          ]
        }
      ],
      "source": [
        "#strings\n",
        "str1=\"hello I'm  from SR university\"\n",
        "str2=\"hello \\tI'm from SR university and im {age} yrs old\".format(age=19)\n",
        "str3=\"                     druva        \"\n",
        "t=(\"sr\",\"university\")\n",
        "print(\"captalize=\",str1.capitalize())\n",
        "print(\"casefold=\",str1.casefold())\n",
        "print(\"center=\",str1.center(40,\"*\"))\n",
        "print(\"count=\",str1.count(\"l\"))\n",
        "print(\"endswith=\",str1.endswith(\"y\"))\n",
        "print(\"expandtabs=\",str2.expandtabs(10))\n",
        "print(\"find=\",str1.find(\"SR\"))\n",
        "print(\"fomat=\",str2)\n",
        "print(\"isupper=\",str1.isupper())\n",
        "print(\"istitle=\",str1.istitle())\n",
        "print(\"isspace=\",str1.isspace())\n",
        "print(\"isprintable=\",str1.isprintable())\n",
        "print(\"isnumeric=\",str1.isnumeric())\n",
        "print(\"islower=\",str1.islower())\n",
        "print(\"isdigit=\",str1.isdigit())\n",
        "print(\"index=\",str1.index(\"S\"))\n",
        "print(\"join=\",\" \".join(t))\n",
        "print(\"ljust=\",str1.ljust(35,\"*\"))\n",
        "print(\"lower=\",str1.lower())\n",
        "print(\"lstrip=\",str3.lstrip())\n",
        "mytable=str1.maketrans(\"SR\",\"DN\")\n",
        "print(\"maketrans  translate=\",str1.translate(mytable))\n",
        "print(\"partition=\",str1.partition(\"SR\"))\n",
        "print(\"replace=\",str1.replace(\"SR\",\"DN\"))\n",
        "print(\"rfind=\",str1.rfind(\"SR\"))\n",
        "print(\"rindex=\",str1.rindex(\"S\"))\n",
        "print(\"rjust=\",str1.rjust(10))\n",
        "print(\"split=\",str1.split())\n",
        "print(\"splitlines=\",str1.splitlines())\n",
        "print(\"startswith=\",str1.startswith(\"gd mrng\"))\n",
        "print(\"strip=\",str3.strip())\n",
        "print(\"swapcase\",str1.swapcase())\n",
        "print(\"title=\",str1.title())\n",
        "print(\"upper=\",str1.upper())"
      ]
    },
    {
      "cell_type": "code",
      "source": [
        "#Lists\n",
        "list1=[\"apple\",\"banana\",1,2.5]\n",
        "list1.append(\"cherry\")\n",
        "print(\"append=\",list1)\n",
        "y=list1.copy()\n",
        "print(\"copy=\",y)\n",
        "print(\"count=\",list1.count(1))\n",
        "list2=[\"honda\",\"swift\",\"benz\"]\n",
        "list1.extend(list2)\n",
        "print(\"extend=\",list1)\n",
        "print(\"index=\",list1.index(2.5))\n",
        "list1.insert(3,100)\n",
        "print(\"insert=\",list1)\n",
        "list1.pop(3)\n",
        "print(\"pop=\",list1)\n",
        "list1.remove(\"cherry\")\n",
        "print(\"remove=\",list1)\n",
        "list1.reverse()\n",
        "print(\"reverse=\",list1)\n",
        "list1.clear()\n",
        "print(\"clear=\",list1)"
      ],
      "metadata": {
        "colab": {
          "base_uri": "https://localhost:8080/"
        },
        "id": "km1BI7qzZlkQ",
        "outputId": "d24ced4d-322c-428f-9b26-900f8c5b5d35"
      },
      "execution_count": 83,
      "outputs": [
        {
          "output_type": "stream",
          "name": "stdout",
          "text": [
            "append= ['apple', 'banana', 1, 2.5, 'cherry']\n",
            "copy= ['apple', 'banana', 1, 2.5, 'cherry']\n",
            "count= 1\n",
            "extend= ['apple', 'banana', 1, 2.5, 'cherry', 'honda', 'swift', 'benz']\n",
            "index= 3\n",
            "insert= ['apple', 'banana', 1, 100, 2.5, 'cherry', 'honda', 'swift', 'benz']\n",
            "pop= ['apple', 'banana', 1, 2.5, 'cherry', 'honda', 'swift', 'benz']\n",
            "remove= ['apple', 'banana', 1, 2.5, 'honda', 'swift', 'benz']\n",
            "reverse= ['benz', 'swift', 'honda', 2.5, 1, 'banana', 'apple']\n",
            "clear= []\n"
          ]
        }
      ]
    },
    {
      "cell_type": "code",
      "source": [
        "#Dictionaries\n",
        "dict1={\"name\":\"ddddd\",\"age\":19,\"year\":2003}\n",
        "x=dict1.copy()\n",
        "print(\"copy=\",x)\n",
        "print(\"get=\",dict1.get(\"name\"))\n",
        "print(\"items\",dict1.items())\n",
        "print(\"keys=\",dict1.keys())\n",
        "dict1.pop(\"year\")\n",
        "print(\"pop=\",dict1)\n",
        "dict1.popitem()\n",
        "print(\"popitem=\",dict1)\n",
        "dict1.setdefault(\"name\",\"ddd\")\n",
        "print(\"setdefault=\",dict1)\n",
        "dict1.update({\"age\":19})\n",
        "print(\"upate=\",dict1)\n",
        "print(\"values=\",dict1.values())\n",
        "dict1.clear()\n",
        "print(\"clear=\",dict1)"
      ],
      "metadata": {
        "colab": {
          "base_uri": "https://localhost:8080/"
        },
        "id": "WxC8fT_7crIM",
        "outputId": "b9ae7f43-63da-4b73-977f-bc7ec8d856cf"
      },
      "execution_count": 101,
      "outputs": [
        {
          "output_type": "stream",
          "name": "stdout",
          "text": [
            "copy= {'name': 'ddddd', 'age': 19, 'year': 2003}\n",
            "get= ddddd\n",
            "items dict_items([('name', 'ddddd'), ('age', 19), ('year', 2003)])\n",
            "keys= dict_keys(['name', 'age', 'year'])\n",
            "pop= {'name': 'ddddd', 'age': 19}\n",
            "popitem= {'name': 'ddddd'}\n",
            "setdefault= {'name': 'ddddd'}\n",
            "upate= {'name': 'ddddd', 'age': 19}\n",
            "values= dict_values(['ddddd', 19])\n",
            "clear= {}\n"
          ]
        }
      ]
    },
    {
      "cell_type": "code",
      "source": [
        "#Tuples\n",
        "t=(1,\"druva\",2,3,4,5,6,2)\n",
        "print(\"count=\",t.count(2))\n",
        "print(\"index=\",t.index(\"druva\"))"
      ],
      "metadata": {
        "colab": {
          "base_uri": "https://localhost:8080/"
        },
        "id": "KMGTUvdIgP6C",
        "outputId": "725c500e-39a1-4cf4-e8d3-652cf4786d9d"
      },
      "execution_count": 103,
      "outputs": [
        {
          "output_type": "stream",
          "name": "stdout",
          "text": [
            "count= 2\n",
            "index= 1\n"
          ]
        }
      ]
    },
    {
      "cell_type": "code",
      "source": [
        "#sets\n",
        "s={1,2,3,4}\n",
        "s1={1,3,5,\"hi\"}\n",
        "\n",
        "l=[1,7,8,9]\n",
        "print(l)\n",
        "sets=set(l)\n",
        "print(sets)\n",
        "\n",
        "s.update({5,6})\n",
        "print(s)\n",
        "\n",
        "s1.discard(\"hi\")\n",
        "print(s1)\n",
        "\n",
        "s1.remove(3)\n",
        "print(s1)\n",
        "\n",
        "#set opertaions\n",
        "a={1,2,3,4}\n",
        "b={4,5,6,7}\n",
        "\n",
        "#union\n",
        "print(a|b)\n",
        "print(a.union(b))\n",
        "print(b.union(a))\n",
        "\n",
        "#inetersection\n",
        "print(a&b)\n",
        "print(a.intersection(b))\n",
        "print(b.intersection(a))\n",
        "\n",
        "#difference\n",
        "print(a-b)\n",
        "print(b-a)\n",
        "print(a.difference(b))\n",
        "print(b.difference(a))"
      ],
      "metadata": {
        "colab": {
          "base_uri": "https://localhost:8080/"
        },
        "id": "vgdfsfYtgsrt",
        "outputId": "c6834b61-47f1-433d-ea33-17092f011fc7"
      },
      "execution_count": 104,
      "outputs": [
        {
          "output_type": "stream",
          "name": "stdout",
          "text": [
            "[1, 7, 8, 9]\n",
            "{8, 1, 9, 7}\n",
            "{1, 2, 3, 4, 5, 6}\n",
            "{1, 3, 5}\n",
            "{1, 5}\n",
            "{1, 2, 3, 4, 5, 6, 7}\n",
            "{1, 2, 3, 4, 5, 6, 7}\n",
            "{1, 2, 3, 4, 5, 6, 7}\n",
            "{4}\n",
            "{4}\n",
            "{4}\n",
            "{1, 2, 3}\n",
            "{5, 6, 7}\n",
            "{1, 2, 3}\n",
            "{5, 6, 7}\n"
          ]
        }
      ]
    },
    {
      "cell_type": "code",
      "source": [
        "#NUmber conversions\n",
        "a=5\n",
        "print(\"binary=\",bin(a),\"octal=\",oct(a),\"hextadecimal=\",hex(a))"
      ],
      "metadata": {
        "colab": {
          "base_uri": "https://localhost:8080/"
        },
        "id": "NkS7yAY3hLtx",
        "outputId": "73c845f5-2172-4dc8-c791-28229a84e796"
      },
      "execution_count": 108,
      "outputs": [
        {
          "output_type": "stream",
          "name": "stdout",
          "text": [
            "binary= 0b101 octal= 0o5 hextadecimal= 0x5\n"
          ]
        }
      ]
    },
    {
      "cell_type": "code",
      "source": [
        "#arithemetic\n",
        "a = 10\n",
        "b = 10\n",
        "print (\"a + b : \", a + b)\n",
        "print (\"a - b : \", a - b)\n",
        "print (\"a * b : \", a * b)\n",
        "print (\"a / b : \", a / b)\n",
        "print (\"a % b : \", a % b)\n",
        "print (\"a ** b : \", a ** b)\n",
        "print (\"a // b : \", a // b)\n",
        "\n",
        "#comparison\n",
        "a = 4\n",
        "b = 5\n",
        "print (\"a == b : \", a == b)\n",
        "print (\"a != b : \", a != b)\n",
        "print (\"a > b : \", a > b)\n",
        "print (\"a < b : \", a < b)\n",
        "print (\"a >= b : \", a >= b)\n",
        "print (\"a <= b : \", a <= b)\n",
        "\n",
        "#Assignment\n",
        "a = 10\n",
        "a += 5\n",
        "print (\"a += 5 : \", a)\n",
        "a -= 5\n",
        "print (\"a -= 5 : \", a)\n",
        "a *= 5\n",
        "print (\"a *= 5 : \", a)\n",
        "a /= 5\n",
        "print (\"a /= 5 : \",a)\n",
        "a %= 3\n",
        "print (\"a %= 3 : \", a)\n",
        "a **= 2\n",
        "print (\"a **= 2 : \", a)\n",
        "a //= 3\n",
        "print (\"a //= 3 : \", a)\n",
        "\n",
        "#Bitwise\n",
        "a = 60            \n",
        "b = 13     \n",
        "c = a & b    \n",
        "print (\"a & b : \", c)\n",
        "c = a | b       \n",
        "print (\"a | b : \", c)\n",
        "c = a ^ b        \n",
        "print (\"a ^ b : \", c)\n",
        "c = ~a;          \n",
        "print (\"~a : \", c)\n",
        "c = a << 2;    \n",
        "print (\"a << 2 : \", c)\n",
        "c = a >> 2;      \n",
        "print (\"a >> 2 : \", c)\n",
        "\n",
        "#Logical \n",
        "x=True\n",
        "y=False\n",
        "print('x and y is:',x and y)\n",
        "print('x or y is:',x or y)\n",
        "print('x not y is:',not y)\n",
        "\n",
        "#identity operator\n",
        "x1=5\n",
        "y1=5\n",
        "x2='hello'\n",
        "y2=\"hello\"\n",
        "x3=[1,2,3]\n",
        "y3=[1,2,3]\n",
        "print(x1 is not y1)\n",
        "print(x2 is  y2)\n",
        "print(x3 is y3)\n",
        "\n",
        "#membership\n",
        "my_list = [2, 4, 6, 8, 10, 12]\n",
        "print(6 in my_list)\n",
        "print(5 in my_list)"
      ],
      "metadata": {
        "colab": {
          "base_uri": "https://localhost:8080/"
        },
        "id": "zgHwFFxSiAJY",
        "outputId": "18ff4c25-8d95-4b52-baf8-8bd2321c956a"
      },
      "execution_count": 114,
      "outputs": [
        {
          "output_type": "stream",
          "name": "stdout",
          "text": [
            "a + b :  20\n",
            "a - b :  0\n",
            "a * b :  100\n",
            "a / b :  1.0\n",
            "a % b :  0\n",
            "a ** b :  10000000000\n",
            "a // b :  1\n",
            "a == b :  False\n",
            "a != b :  True\n",
            "a > b :  False\n",
            "a < b :  True\n",
            "a >= b :  False\n",
            "a <= b :  True\n",
            "a += 5 :  15\n",
            "a -= 5 :  10\n",
            "a *= 5 :  50\n",
            "a /= 5 :  10.0\n",
            "a %= 3 :  1.0\n",
            "a **= 2 :  1.0\n",
            "a //= 3 :  0.0\n",
            "a & b :  12\n",
            "a | b :  61\n",
            "a ^ b :  49\n",
            "~a :  -61\n",
            "a << 2 :  240\n",
            "a >> 2 :  15\n",
            "x and y is: False\n",
            "x or y is: True\n",
            "x not y is: True\n",
            "False\n",
            "True\n",
            "False\n",
            "True\n",
            "False\n"
          ]
        }
      ]
    },
    {
      "cell_type": "code",
      "source": [
        "# applying silcing\n",
        "list1=[\"apple\",\"banana\",1,2.5]\n",
        "print(\"list1=\",list1)\n",
        "print(list1[1::])\n",
        "print(list1[1:2])\n",
        "print(list1[::2])\n",
        "print(list1[::-2])\n",
        "print(list1[-1:-3])\n",
        "list2=[\"honda\",\"swift\",\"benz\"]\n",
        "list3=(list1,list2)\n",
        "print(list3)\n",
        "print(list3[0][1][3])\n",
        "print(list3[1][2])\n",
        "print(list3[0][0][::2])\n",
        "print(list3[1][0][::2])\n"
      ],
      "metadata": {
        "colab": {
          "base_uri": "https://localhost:8080/"
        },
        "id": "E_EkwA0yoFrY",
        "outputId": "8dc446a3-48bf-4a6d-a1e3-deaab71d3de6"
      },
      "execution_count": 116,
      "outputs": [
        {
          "output_type": "stream",
          "name": "stdout",
          "text": [
            "list1= ['apple', 'banana', 1, 2.5]\n",
            "['banana', 1, 2.5]\n",
            "['banana']\n",
            "['apple', 1]\n",
            "[2.5, 'banana']\n",
            "[]\n",
            "(['apple', 'banana', 1, 2.5], ['honda', 'swift', 'benz'])\n",
            "a\n",
            "benz\n",
            "ape\n",
            "hna\n"
          ]
        }
      ]
    },
    {
      "cell_type": "code",
      "source": [
        "print('A series of character designated as one object known as a string'[::-1][4::3])\n",
        "print('----------')\n",
        "print('Welcome to python traing program'[3:10][::-1])\n"
      ],
      "metadata": {
        "colab": {
          "base_uri": "https://localhost:8080/"
        },
        "id": "TYZvXjejpyJO",
        "outputId": "bdebca0a-5279-4cae-cef4-628543d89af0"
      },
      "execution_count": 117,
      "outputs": [
        {
          "output_type": "stream",
          "name": "stdout",
          "text": [
            "taawkcbe  tgerca  is\n",
            "----------\n",
            "ot emoc\n"
          ]
        }
      ]
    },
    {
      "cell_type": "code",
      "source": [
        "P_phrase=\"was it a car or a cat I saw\"\n",
        "print(P_phrase[::-1].upper())"
      ],
      "metadata": {
        "colab": {
          "base_uri": "https://localhost:8080/"
        },
        "id": "8PRmaE6Bp9kc",
        "outputId": "73509d5f-c630-4a91-8716-b7378b868822"
      },
      "execution_count": 118,
      "outputs": [
        {
          "output_type": "stream",
          "name": "stdout",
          "text": [
            "WAS I TAC A RO RAC A TI SAW\n"
          ]
        }
      ]
    },
    {
      "cell_type": "code",
      "source": [
        "x=int(input())\n",
        "y=2*x\n",
        "print('Z'*x+'O'*y)"
      ],
      "metadata": {
        "colab": {
          "base_uri": "https://localhost:8080/"
        },
        "id": "71HOVNNgqAlk",
        "outputId": "da095822-77cb-4a32-e575-cd7486d0ad10"
      },
      "execution_count": 119,
      "outputs": [
        {
          "output_type": "stream",
          "name": "stdout",
          "text": [
            "2\n",
            "ZZOOOO\n"
          ]
        }
      ]
    }
  ]
}